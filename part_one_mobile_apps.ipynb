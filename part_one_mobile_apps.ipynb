{
  "cells": [
    {
      "cell_type": "code",
      "execution_count": 1,
      "metadata": {
        "colab": {
          "base_uri": "https://localhost:8080/"
        },
        "id": "-8eFW_wl1n39",
        "outputId": "6801b793-8ce7-4515-83fe-87293895ab3c"
      },
      "outputs": [
        {
          "output_type": "stream",
          "name": "stdout",
          "text": [
            "\r0% [Working]\r            \rGet:1 https://cloud.r-project.org/bin/linux/ubuntu focal-cran40/ InRelease [3,622 B]\n",
            "\r0% [Waiting for headers] [Waiting for headers] [1 InRelease 0 B/3,622 B 0%] [Wa\r0% [Waiting for headers] [Waiting for headers] [Waiting for headers] [Connectin\r                                                                               \rGet:2 http://security.ubuntu.com/ubuntu focal-security InRelease [114 kB]\n",
            "\r0% [Waiting for headers] [2 InRelease 14.2 kB/114 kB 12%] [Waiting for headers]\r                                                                               \rIgn:3 https://developer.download.nvidia.com/compute/machine-learning/repos/ubuntu2004/x86_64  InRelease\n",
            "\r0% [Waiting for headers] [2 InRelease 14.2 kB/114 kB 12%] [Waiting for headers]\r                                                                               \rHit:4 https://developer.download.nvidia.com/compute/cuda/repos/ubuntu2004/x86_64  InRelease\n",
            "\r0% [Waiting for headers] [2 InRelease 14.2 kB/114 kB 12%] [Connecting to ppa.la\r                                                                               \rHit:5 https://developer.download.nvidia.com/compute/machine-learning/repos/ubuntu2004/x86_64  Release\n",
            "\r0% [Waiting for headers] [2 InRelease 14.2 kB/114 kB 12%] [Connecting to ppa.la\r                                                                               \rHit:6 http://archive.ubuntu.com/ubuntu focal InRelease\n",
            "Get:7 http://archive.ubuntu.com/ubuntu focal-updates InRelease [114 kB]\n",
            "Hit:8 http://ppa.launchpad.net/c2d4u.team/c2d4u4.0+/ubuntu focal InRelease\n",
            "Get:9 http://archive.ubuntu.com/ubuntu focal-backports InRelease [108 kB]\n",
            "Hit:10 http://ppa.launchpad.net/cran/libgit2/ubuntu focal InRelease\n",
            "Hit:11 http://ppa.launchpad.net/deadsnakes/ppa/ubuntu focal InRelease\n",
            "Hit:13 http://ppa.launchpad.net/graphics-drivers/ppa/ubuntu focal InRelease\n",
            "Hit:14 http://ppa.launchpad.net/ubuntugis/ppa/ubuntu focal InRelease\n",
            "Get:15 http://security.ubuntu.com/ubuntu focal-security/universe amd64 Packages [1,000 kB]\n",
            "Get:16 http://archive.ubuntu.com/ubuntu focal-updates/restricted amd64 Packages [2,069 kB]\n",
            "Get:17 http://archive.ubuntu.com/ubuntu focal-updates/universe amd64 Packages [1,299 kB]\n",
            "Get:18 http://archive.ubuntu.com/ubuntu focal-updates/main amd64 Packages [2,972 kB]\n",
            "Fetched 7,679 kB in 6s (1,214 kB/s)\n",
            "Reading package lists... Done\n"
          ]
        }
      ],
      "source": [
        "# Activate Spark in our Colab notebook.\n",
        "import os\n",
        "# Find the latest version of spark 3.2  from http://www.apache.org/dist/spark/ and enter as the spark version\n",
        "# For example:\n",
        "# spark_version = 'spark-3.2.2'\n",
        "spark_version = 'spark-3.2.3'\n",
        "os.environ['SPARK_VERSION']=spark_version\n",
        "\n",
        "# Install Spark and Java\n",
        "!apt-get update\n",
        "!apt-get install openjdk-11-jdk-headless -qq > /dev/null\n",
        "!wget -q http://www.apache.org/dist/spark/$SPARK_VERSION/$SPARK_VERSION-bin-hadoop3.2.tgz\n",
        "!tar xf $SPARK_VERSION-bin-hadoop3.2.tgz\n",
        "!pip install -q findspark\n",
        "\n",
        "# Set Environment Variables\n",
        "import os\n",
        "os.environ[\"JAVA_HOME\"] = \"/usr/lib/jvm/java-11-openjdk-amd64\"\n",
        "os.environ[\"SPARK_HOME\"] = f\"/content/{spark_version}-bin-hadoop3.2\"\n",
        "\n",
        "# Start a SparkSession\n",
        "import findspark\n",
        "findspark.init()"
      ]
    },
    {
      "cell_type": "code",
      "execution_count": 2,
      "metadata": {
        "colab": {
          "base_uri": "https://localhost:8080/"
        },
        "id": "BzCrgs0Z1rnw",
        "outputId": "b546d2e3-7787-444a-a20e-0304c1833f16"
      },
      "outputs": [
        {
          "output_type": "stream",
          "name": "stdout",
          "text": [
            "--2023-02-26 21:49:34--  https://jdbc.postgresql.org/download/postgresql-42.2.9.jar\n",
            "Resolving jdbc.postgresql.org (jdbc.postgresql.org)... 72.32.157.228, 2001:4800:3e1:1::228\n",
            "Connecting to jdbc.postgresql.org (jdbc.postgresql.org)|72.32.157.228|:443... connected.\n",
            "HTTP request sent, awaiting response... 200 OK\n",
            "Length: 914037 (893K) [application/java-archive]\n",
            "Saving to: ‘postgresql-42.2.9.jar’\n",
            "\n",
            "postgresql-42.2.9.j 100%[===================>] 892.61K  4.50MB/s    in 0.2s    \n",
            "\n",
            "2023-02-26 21:49:34 (4.50 MB/s) - ‘postgresql-42.2.9.jar’ saved [914037/914037]\n",
            "\n"
          ]
        }
      ],
      "source": [
        "# Get postgresql package\n",
        "!wget https://jdbc.postgresql.org/download/postgresql-42.2.9.jar"
      ]
    },
    {
      "cell_type": "code",
      "execution_count": 3,
      "metadata": {
        "id": "0DuBth0V2PR8"
      },
      "outputs": [],
      "source": [
        "# Import Spark and create a SparkSession\n",
        "from pyspark.sql import SparkSession\n",
        "spark = SparkSession.builder.appName(\"BigData-HW-1\").config(\"spark.driver.extraClassPath\",\"/content/postgresql-42.2.9.jar\").getOrCreate()"
      ]
    },
    {
      "cell_type": "markdown",
      "metadata": {
        "id": "D3W2XJVi2CU-"
      },
      "source": [
        "# Extract the Amazon Data into Spark DataFrame"
      ]
    },
    {
      "cell_type": "code",
      "execution_count": 4,
      "metadata": {
        "colab": {
          "base_uri": "https://localhost:8080/"
        },
        "id": "Na_stw7b1wfU",
        "outputId": "91b781af-5a85-4b37-a8f6-b8e1d9757d48"
      },
      "outputs": [
        {
          "output_type": "stream",
          "name": "stdout",
          "text": [
            "+-----------+-----------+--------------+----------+--------------+--------------------+----------------+-----------+-------------+-----------+----+-----------------+--------------------+--------------------+-----------+\n",
            "|marketplace|customer_id|     review_id|product_id|product_parent|       product_title|product_category|star_rating|helpful_votes|total_votes|vine|verified_purchase|     review_headline|         review_body|review_date|\n",
            "+-----------+-----------+--------------+----------+--------------+--------------------+----------------+-----------+-------------+-----------+----+-----------------+--------------------+--------------------+-----------+\n",
            "|         US|    1774101|R3PMQXEVYR4ZT1|B00DVKOYBM|     263046246|         8 Ball Pool|     Mobile_Apps|          3|            0|          0|   N|                Y|                 Fun|It is a fun game ...| 2015-08-31|\n",
            "|         US|   13679234|R1I1K3EO98EMUV|B00R1IA4RS|     128868854|Christmas Cookie ...|     Mobile_Apps|          5|            0|          0|   N|                Y|          Five Stars|Fun cute game.  S...| 2015-08-31|\n",
            "|         US|   15056632|R3K23URSI2MY42|B01069LGHK|     955481764|Relax Melodies Pr...|     Mobile_Apps|          5|            4|          4|   N|                Y|         Great app !|It's a very nice ...| 2015-08-31|\n",
            "|         US|   52477711| RH2P770T10X38|B00X64ZKM0|     455029830|  Star Trek™ Trexels|     Mobile_Apps|          5|            0|          0|   N|                Y|             awesome|I am a huge star ...| 2015-08-31|\n",
            "|         US|   15021042| RV9YBAW8CWFYN|B00KIZO238|     685358159|      Weather Friend|     Mobile_Apps|          1|            0|          0|   N|                Y|      Don't like it.|I get better info...| 2015-08-31|\n",
            "|         US|    5181462| R19627K7G1G6X|B00H9FE0FU|     158085302|         Avakin Life|     Mobile_Apps|          5|            0|          0|   N|                Y|             love it|  This is a fun game| 2015-08-31|\n",
            "|         US|   19360265|R22858XECEF7YQ|B0064X7FVE|     140639925|The Weather Chann...|     Mobile_Apps|          3|            0|          0|   N|                N|         weather app|It's ok ... I gue...| 2015-08-31|\n",
            "|         US|   28928572|R3KQOY7MDZOK0U|B00N28818A|     838378762|  Amazon Prime Video|     Mobile_Apps|          1|            0|          0|   N|                Y|            One Star|Spent 30 minutes,...| 2015-08-31|\n",
            "|         US|   26842555|R31BKIN02QFDHS|B00HGMXSGI|     141073643|F1 Car Racing 3D ...|     Mobile_Apps|          4|            0|          0|   N|                Y|          Four Stars|                okay| 2015-08-31|\n",
            "|         US|   25535583|R3FW62P5EUDUUV|B0119R2DB6|     498391460|           WordBrain|     Mobile_Apps|          5|            0|          0|   N|                Y|        Challenging!|Definitely one of...| 2015-08-31|\n",
            "|         US|    3343825| RBD8ROQJQO68E|B00O0OR65E|     156086007|           Yes Chef!|     Mobile_Apps|          5|            0|          0|   N|                Y|            Awesome!|Very cool game. W...| 2015-08-31|\n",
            "|         US|   49181739|R1S04R7IT12FKH|B00YCL9R0W|     629058532|Weather Live - De...|     Mobile_Apps|          4|            0|          0|   N|                Y|       Works great!!|Works great, all ...| 2015-08-31|\n",
            "|         US|   13270659|R194G91R3ZLBF2|B00CO6TOZA|     829161463|The Sandbox - Pix...|     Mobile_Apps|          1|            0|          0|   N|                Y|       Can't open it|It was fun until ...| 2015-08-31|\n",
            "|         US|    2463531|R3HL9X6I540JIU|B0143IEV2C|     700349630|Free Fur All – We...|     Mobile_Apps|          4|            3|          3|   N|                Y|           it's fun.|My daughter watch...| 2015-08-31|\n",
            "|         US|   22004512|R2EY7KOBYDYXXA|B013Z61TSW|     597449900| DraftCaddy FFL 2015|     Mobile_Apps|          5|            0|          0|   N|                Y|          Five Stars|Great and super e...| 2015-08-31|\n",
            "|         US|   22117302|R25RWPOJZ107LS|B00VTVJYTC|     280276697|    Balloon Paradise|     Mobile_Apps|          5|            0|          0|   N|                Y|                 fun|This is fun too play| 2015-08-31|\n",
            "|         US|   15335275|R3CXLGDEO7QPGY|B00W3V83QW|     644120444| Bubble Witch 2 Saga|     Mobile_Apps|          1|            0|          0|   N|                Y|Cannot download e...|Cannot download  ...| 2015-08-31|\n",
            "|         US|    8713121|R3AEWJ6OQZI2DV|B011WDWQ6O|     228013366|Viva Vegas Slots ...|     Mobile_Apps|          3|            0|          0|   N|                Y|               agree|The game sucks yo...| 2015-08-31|\n",
            "|         US|   25989961|R3QD4EAHDX3JVP|B00F9G2UQW|     523400408|Android Universal...|     Mobile_Apps|          3|            0|          0|   N|                Y|            Horrible|It's so annoying ...| 2015-08-31|\n",
            "|         US|    3729602| R14F4B4CZ4RIJ|B00Y3ZWEL6|     860150135|Castle of Illusio...|     Mobile_Apps|          1|            0|          2|   N|                Y|               Why?!|I have been tryin...| 2015-08-31|\n",
            "+-----------+-----------+--------------+----------+--------------+--------------------+----------------+-----------+-------------+-----------+----+-----------------+--------------------+--------------------+-----------+\n",
            "only showing top 20 rows\n",
            "\n"
          ]
        }
      ],
      "source": [
        "# Read in the data from an S3 Bucket\n",
        "from pyspark import SparkFiles\n",
        "url = \"https://s3.amazonaws.com/amazon-reviews-pds/tsv/amazon_reviews_us_Mobile_Apps_v1_00.tsv.gz\"\n",
        "spark.sparkContext.addFile(url)\n",
        "df = spark.read.csv(SparkFiles.get(\"amazon_reviews_us_Mobile_Apps_v1_00.tsv.gz\"), sep=\"\\t\", header=True, inferSchema=True)\n",
        "\n",
        "# Show DataFrame\n",
        "df.show()"
      ]
    },
    {
      "cell_type": "code",
      "execution_count": 5,
      "metadata": {
        "colab": {
          "base_uri": "https://localhost:8080/"
        },
        "id": "Cayz-3Q52IM3",
        "outputId": "d1345675-1040-4790-f06e-84ebd1dc5523"
      },
      "outputs": [
        {
          "output_type": "execute_result",
          "data": {
            "text/plain": [
              "5033376"
            ]
          },
          "metadata": {},
          "execution_count": 5
        }
      ],
      "source": [
        "# Get the number of rows in the DataFrame.\n",
        "df.count()"
      ]
    },
    {
      "cell_type": "markdown",
      "metadata": {
        "id": "C9U0rkGZ2eu7"
      },
      "source": [
        "# Transform the Data"
      ]
    },
    {
      "cell_type": "markdown",
      "source": [
        "## Create the \"review_id_table\"."
      ],
      "metadata": {
        "id": "dUoftWoKtM_c"
      }
    },
    {
      "cell_type": "code",
      "execution_count": 6,
      "metadata": {
        "colab": {
          "base_uri": "https://localhost:8080/"
        },
        "id": "2tMYkSIk2d-m",
        "outputId": "6e7a2b39-ef2a-4e68-8886-3e32f8759341"
      },
      "outputs": [
        {
          "output_type": "stream",
          "name": "stdout",
          "text": [
            "+--------------+-----------+----------+--------------+-----------+\n",
            "|     review_id|customer_id|product_id|product_parent|review_date|\n",
            "+--------------+-----------+----------+--------------+-----------+\n",
            "|R3PMQXEVYR4ZT1|    1774101|B00DVKOYBM|     263046246| 2015-08-31|\n",
            "|R1I1K3EO98EMUV|   13679234|B00R1IA4RS|     128868854| 2015-08-31|\n",
            "|R3K23URSI2MY42|   15056632|B01069LGHK|     955481764| 2015-08-31|\n",
            "| RH2P770T10X38|   52477711|B00X64ZKM0|     455029830| 2015-08-31|\n",
            "| RV9YBAW8CWFYN|   15021042|B00KIZO238|     685358159| 2015-08-31|\n",
            "| R19627K7G1G6X|    5181462|B00H9FE0FU|     158085302| 2015-08-31|\n",
            "|R22858XECEF7YQ|   19360265|B0064X7FVE|     140639925| 2015-08-31|\n",
            "|R3KQOY7MDZOK0U|   28928572|B00N28818A|     838378762| 2015-08-31|\n",
            "|R31BKIN02QFDHS|   26842555|B00HGMXSGI|     141073643| 2015-08-31|\n",
            "|R3FW62P5EUDUUV|   25535583|B0119R2DB6|     498391460| 2015-08-31|\n",
            "| RBD8ROQJQO68E|    3343825|B00O0OR65E|     156086007| 2015-08-31|\n",
            "|R1S04R7IT12FKH|   49181739|B00YCL9R0W|     629058532| 2015-08-31|\n",
            "|R194G91R3ZLBF2|   13270659|B00CO6TOZA|     829161463| 2015-08-31|\n",
            "|R3HL9X6I540JIU|    2463531|B0143IEV2C|     700349630| 2015-08-31|\n",
            "|R2EY7KOBYDYXXA|   22004512|B013Z61TSW|     597449900| 2015-08-31|\n",
            "|R25RWPOJZ107LS|   22117302|B00VTVJYTC|     280276697| 2015-08-31|\n",
            "|R3CXLGDEO7QPGY|   15335275|B00W3V83QW|     644120444| 2015-08-31|\n",
            "|R3AEWJ6OQZI2DV|    8713121|B011WDWQ6O|     228013366| 2015-08-31|\n",
            "|R3QD4EAHDX3JVP|   25989961|B00F9G2UQW|     523400408| 2015-08-31|\n",
            "| R14F4B4CZ4RIJ|    3729602|B00Y3ZWEL6|     860150135| 2015-08-31|\n",
            "+--------------+-----------+----------+--------------+-----------+\n",
            "only showing top 20 rows\n",
            "\n"
          ]
        }
      ],
      "source": [
        "from pyspark.sql.functions import to_date\n",
        "# Create the \"review_id_df\" DataFrame with the appropriate columns and data types.\n",
        "review_id_table = df.select([\"review_id\", \"customer_id\", \"product_id\", \"product_parent\", \"review_date\"])\n",
        "review_id_table.show()"
      ]
    },
    {
      "cell_type": "markdown",
      "source": [
        "## Create the \"products\" Table"
      ],
      "metadata": {
        "id": "aAVCFjXhtXO8"
      }
    },
    {
      "cell_type": "code",
      "execution_count": 7,
      "metadata": {
        "id": "g9gTNhT62je4",
        "colab": {
          "base_uri": "https://localhost:8080/"
        },
        "outputId": "744f2943-0e2f-42f6-85c8-3710a43ae32f"
      },
      "outputs": [
        {
          "output_type": "stream",
          "name": "stdout",
          "text": [
            "+----------+--------------------+\n",
            "|product_id|       product_title|\n",
            "+----------+--------------------+\n",
            "|B00NG6CIKA|Solitaire TriPeak...|\n",
            "|B00ZDVV7Q2|    Frozen Free Fall|\n",
            "|B00N0RK9JM|How Draw Adventur...|\n",
            "|B00SYZDSXO|       Bee Brilliant|\n",
            "|B00HAPRVWS|Sonic The Hedgehog 2|\n",
            "|B00UQK19Z4|HD Screen Wallpap...|\n",
            "|B0073VRX5Y|Power-Button Flas...|\n",
            "|B00ZHDCTLS|           bunny car|\n",
            "|B00I3MX20W|            Vanguard|\n",
            "|B00ITR6WLW|How to Draw: Eque...|\n",
            "|B00CREXAVS|           Bridge V+|\n",
            "|B00CSQYYHO|     Where's My Cat?|\n",
            "|B009KVP70S|          War Sounds|\n",
            "|B00KQ1XYFQ|   My Verizon Mobile|\n",
            "|B014GD3NRS|          kumo cloud|\n",
            "|B00EDUTGB2|     HP Print Plugin|\n",
            "|B00NXOLPFY|Horse Simulator 3...|\n",
            "|B004AHBBPW|         Daily Bible|\n",
            "|B008I43DYU|      Calculator Pro|\n",
            "|B00RG80MSY|        Jewels Blitz|\n",
            "+----------+--------------------+\n",
            "only showing top 20 rows\n",
            "\n"
          ]
        }
      ],
      "source": [
        "# Create the \"products_df\" DataFrame that drops the duplicates in the \"product_id\" and \"product_title columns. \n",
        "products_df = df.select([\"product_id\", \"product_title\"]).drop_duplicates([\"product_id\", \"product_title\"])\n",
        "products_df.show()"
      ]
    },
    {
      "cell_type": "markdown",
      "source": [
        "## Create the \"customers\" Table"
      ],
      "metadata": {
        "id": "LJHuZ9zut0e5"
      }
    },
    {
      "cell_type": "code",
      "execution_count": 8,
      "metadata": {
        "colab": {
          "base_uri": "https://localhost:8080/"
        },
        "id": "_pF2Vf3c2n2O",
        "outputId": "b4f15788-9d21-4ee5-bc50-7e7359a4ee29"
      },
      "outputs": [
        {
          "output_type": "stream",
          "name": "stdout",
          "text": [
            "+-----------+-----+\n",
            "|customer_id|count|\n",
            "+-----------+-----+\n",
            "|   44552694|    7|\n",
            "|   27457155|    6|\n",
            "|   35842367|    9|\n",
            "|   16848166|    5|\n",
            "|   13313689|   10|\n",
            "|    3628854|    1|\n",
            "|   43626894|    1|\n",
            "|    4658983|    8|\n",
            "|   16457323|    3|\n",
            "|   30024726|    5|\n",
            "|    3636174|    1|\n",
            "|     582750|    1|\n",
            "|      78113|    1|\n",
            "|    2246607|    5|\n",
            "|   26264517|    1|\n",
            "|    7439900|    1|\n",
            "|    2361059|    2|\n",
            "|   22965400|    2|\n",
            "|   32777038|    1|\n",
            "|   29019526|    2|\n",
            "+-----------+-----+\n",
            "only showing top 20 rows\n",
            "\n"
          ]
        }
      ],
      "source": [
        "# Create the \"customers_df\" DataFrame that groups the data on the \"customer_id\" by the number of times a customer reviewed a product. \n",
        "customers_df = df.groupBy(\"customer_id\").count()\n",
        "customers_df.orderBy(\"customer_id\").select([\"customer_id\", \"count\"])\n",
        "customers_df.show()"
      ]
    },
    {
      "cell_type": "markdown",
      "source": [
        "## Create the \"vine_table\"."
      ],
      "metadata": {
        "id": "8SbTasxbuXGK"
      }
    },
    {
      "cell_type": "code",
      "execution_count": 9,
      "metadata": {
        "colab": {
          "base_uri": "https://localhost:8080/"
        },
        "id": "WHQKbmCE2p3Q",
        "outputId": "cb810508-bd97-41c2-cc53-be12b4b5f1c6"
      },
      "outputs": [
        {
          "output_type": "stream",
          "name": "stdout",
          "text": [
            "+--------------+-----------+-------------+-----------+----+\n",
            "|     review_id|star_rating|helpful_votes|total_votes|vine|\n",
            "+--------------+-----------+-------------+-----------+----+\n",
            "|R3PMQXEVYR4ZT1|          3|            0|          0|   N|\n",
            "|R1I1K3EO98EMUV|          5|            0|          0|   N|\n",
            "|R3K23URSI2MY42|          5|            4|          4|   N|\n",
            "| RH2P770T10X38|          5|            0|          0|   N|\n",
            "| RV9YBAW8CWFYN|          1|            0|          0|   N|\n",
            "| R19627K7G1G6X|          5|            0|          0|   N|\n",
            "|R22858XECEF7YQ|          3|            0|          0|   N|\n",
            "|R3KQOY7MDZOK0U|          1|            0|          0|   N|\n",
            "|R31BKIN02QFDHS|          4|            0|          0|   N|\n",
            "|R3FW62P5EUDUUV|          5|            0|          0|   N|\n",
            "| RBD8ROQJQO68E|          5|            0|          0|   N|\n",
            "|R1S04R7IT12FKH|          4|            0|          0|   N|\n",
            "|R194G91R3ZLBF2|          1|            0|          0|   N|\n",
            "|R3HL9X6I540JIU|          4|            3|          3|   N|\n",
            "|R2EY7KOBYDYXXA|          5|            0|          0|   N|\n",
            "|R25RWPOJZ107LS|          5|            0|          0|   N|\n",
            "|R3CXLGDEO7QPGY|          1|            0|          0|   N|\n",
            "|R3AEWJ6OQZI2DV|          3|            0|          0|   N|\n",
            "|R3QD4EAHDX3JVP|          3|            0|          0|   N|\n",
            "| R14F4B4CZ4RIJ|          1|            0|          2|   N|\n",
            "+--------------+-----------+-------------+-----------+----+\n",
            "only showing top 20 rows\n",
            "\n"
          ]
        }
      ],
      "source": [
        "# Create the \"vine_df\" DataFrame that has the \"review_id\", \"star_rating\", \"helpful_votes\", \"total_votes\", and \"vine\" columns. \n",
        "vine_df = df.select([\"review_id\", \"star_rating\", \"helpful_votes\", \"total_votes\", \"vine\"])\n",
        "vine_df.show()"
      ]
    },
    {
      "cell_type": "markdown",
      "metadata": {
        "id": "I8aTsEjZ2s6L"
      },
      "source": [
        "# Load"
      ]
    },
    {
      "cell_type": "code",
      "execution_count": 10,
      "metadata": {
        "id": "W4dzUKfI2vXM"
      },
      "outputs": [],
      "source": [
        "mode = \"append\"\n",
        "jdbc_url=\"jdbc:postgresql://database-homework-22.ckurgpy6lirg.us-east-2.rds.amazonaws.com:5432/database_hw_22\"\n",
        "config = {\"user\": \"<username_here>\", \"password\": \"<password_here>\", \"driver\":\"org.postgresql.Driver\"}"
      ]
    },
    {
      "cell_type": "code",
      "execution_count": 12,
      "metadata": {
        "id": "iOxKqMsD2yVs"
      },
      "outputs": [],
      "source": [
        "# Write review_id_df to table in RDS\n",
        "review_id_table.write.jdbc(url=jdbc_url, table='review_id_table_mobileapps', mode=mode, properties=config)"
      ]
    },
    {
      "cell_type": "code",
      "execution_count": 13,
      "metadata": {
        "id": "pPXyGVE-2yPJ"
      },
      "outputs": [],
      "source": [
        "# Write products_df to table in RDS\n",
        "products_df.write.jdbc(url=jdbc_url, table='products_mobileapps', mode=mode, properties=config)"
      ]
    },
    {
      "cell_type": "code",
      "execution_count": 14,
      "metadata": {
        "id": "aHbca4zN2yIa"
      },
      "outputs": [],
      "source": [
        "# Write customers_df to table in RDS\n",
        "customers_df.write.jdbc(url=jdbc_url, table='customers_mobileapps', mode=mode, properties=config)"
      ]
    },
    {
      "cell_type": "code",
      "execution_count": 15,
      "metadata": {
        "id": "2HfOFneW2x_F"
      },
      "outputs": [],
      "source": [
        "# Write vine_df to table in RDS\n",
        "vine_df.write.jdbc(url=jdbc_url, table='vine_mobileapps', mode=mode, properties=config)"
      ]
    }
  ],
  "metadata": {
    "colab": {
      "provenance": []
    },
    "kernelspec": {
      "display_name": "Python 3",
      "language": "python",
      "name": "python3"
    },
    "language_info": {
      "codemirror_mode": {
        "name": "ipython",
        "version": 3
      },
      "file_extension": ".py",
      "mimetype": "text/x-python",
      "name": "python",
      "nbconvert_exporter": "python",
      "pygments_lexer": "ipython3",
      "version": "3.8.8"
    }
  },
  "nbformat": 4,
  "nbformat_minor": 0
}